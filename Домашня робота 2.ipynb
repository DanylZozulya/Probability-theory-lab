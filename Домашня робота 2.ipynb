{
 "cells": [
  {
   "cell_type": "markdown",
   "metadata": {
    "collapsed": false
   },
   "source": [
    "# Домашня робота №2"
   ]
  },
  {
   "cell_type": "markdown",
   "metadata": {
    "collapsed": false
   },
   "source": [
    "## 1 Пароль\n",
    "Напишіть програму (функцію) для генерування випадкового пароля з такими обмеженнями:\n",
    "- пароль складається з рівно $10$ символів\n",
    "- пароль містить хоча б одну маленьку латинську літеру [a-z]\n",
    "- пароль містить хоча б одну велику латинську літеру [A-Z]\n",
    "- пароль містить хоча б одну цифру [0-9]\n",
    "- пароль містить хоча б один спеціальний символ [~!@#$%^&*()-_+=\\/{}[].,?<>:;]"
   ]
  },
  {
   "cell_type": "code",
   "execution_count": 1,
   "metadata": {
    "collapsed": false
   },
   "outputs": [
    {
     "name": "stdout",
     "output_type": "stream",
     "text": [
      "uO7]lBHLtK\n"
     ]
    }
   ],
   "source": [
    "# Місце для Вашого коду\n",
    "import random\n",
    "\n",
    "def generate():\n",
    "    l1 = 'abcdefghjklmnopqrstuvwxyz'\n",
    "    l2 = 'ABCDEFGHJKLMNOPQRSTUVWXYZ'\n",
    "    n = '-123456789'\n",
    "    s = '~!@#$%^&*()-_+=\\/{}[].,?<>:;'\n",
    "    pas = ''\n",
    "    pas = pas + random.choice(l1) + random.choice(l2) + random.choice(n) + random.choice(s)\n",
    "    for i in range(6):\n",
    "        tmp = random.randrange(1, 4)\n",
    "        if tmp == 1:\n",
    "            pas = pas + random.choice(l1)\n",
    "        elif tmp == 2:\n",
    "            pas = pas + random.choice(l2)\n",
    "        elif tmp == 3:\n",
    "            pas = pas + random.choice(n)\n",
    "        else:\n",
    "            pas = pas + random.choice(s)\n",
    "    return pas\n",
    "\n",
    "\n",
    "print(generate())\n",
    "\n"
   ]
  },
  {
   "cell_type": "markdown",
   "metadata": {
    "collapsed": false
   },
   "source": [
    "## 2 Герби в ряд\n",
    "Реалізуйте функцію для обчислення емпіричної та теоретичної імовірностей випадіння $k$ гербів (HEADS) підряд у серії з $n$ підкидань чесної монетки. Підрахуйте відповідні ймовірності для таких параметрів:\n",
    "- $k = 2, n = 10, 50, 100, 500, 1000, 5000, 10000$\n",
    "- $k = 3, n = 10, 50, 100, 500, 1000, 5000, 10000$\n",
    "\n",
    "**Зауваження.** Нехай $k = 2, n = 10$ та маємо таку послідовність результатів підкидання монети: $\\{ H, T, H, H, H, H, T, T, H, T \\}$. Тоді матимемо $3$ випадки випадіння двох гербів підряд та емпіричну ймовірність такої події $1/3$."
   ]
  },
  {
   "cell_type": "code",
   "execution_count": 2,
   "metadata": {
    "collapsed": false
   },
   "outputs": [
    {
     "name": "stdout",
     "output_type": "stream",
     "text": [
      "n =  10\n",
      "k = 2\n",
      "Theoretical prob: 0.25 Empirical 0.1111111111111111\n",
      "k = 3\n",
      "Theoretical prob: 0.125 Empirical 0.0\n",
      "n =  50\n",
      "k = 2\n",
      "Theoretical prob: 0.25 Empirical 0.22448979591836735\n",
      "k = 3\n",
      "Theoretical prob: 0.125 Empirical 0.14583333333333334\n",
      "n =  100\n",
      "k = 2\n",
      "Theoretical prob: 0.25 Empirical 0.2222222222222222\n",
      "k = 3\n",
      "Theoretical prob: 0.125 Empirical 0.14285714285714285\n",
      "n =  500\n",
      "k = 2\n",
      "Theoretical prob: 0.25 Empirical 0.27054108216432865\n",
      "k = 3\n",
      "Theoretical prob: 0.125 Empirical 0.11847389558232932\n",
      "n =  1000\n",
      "k = 2\n",
      "Theoretical prob: 0.25 Empirical 0.24624624624624625\n",
      "k = 3\n",
      "Theoretical prob: 0.125 Empirical 0.11523046092184369\n",
      "n =  5000\n",
      "k = 2\n",
      "Theoretical prob: 0.25 Empirical 0.26105221044208843\n",
      "k = 3\n",
      "Theoretical prob: 0.125 Empirical 0.12004801920768307\n",
      "n =  10000\n",
      "k = 2\n",
      "Theoretical prob: 0.25 Empirical 0.2599259925992599\n",
      "k = 3\n",
      "Theoretical prob: 0.125 Empirical 0.1298259651930386\n"
     ]
    }
   ],
   "source": [
    "# Місце для Вашого коду\n",
    "import numpy as np\n",
    "\n",
    "def teor(n, k):\n",
    "    return 1 / (1 << k)\n",
    "\n",
    "\n",
    "def practice(n, k):\n",
    "    count = 0\n",
    "    space = ['H', 'T']\n",
    "    test = ''.join(list(np.random.choice(space, n)))\n",
    "    for i in range(len(test) - k):\n",
    "        if test[i:i + k] == 'H' * k:\n",
    "            count += 1\n",
    "    return count / (n - k + 1)\n",
    "\n",
    "def print_ans():\n",
    "    n = [10,50,100,500,1000,5000,10000]\n",
    "    for i in range(7):\n",
    "        print('n = ',n[i])\n",
    "        print('k = 2')\n",
    "        print('Theoretical prob:',teor(n[i],2),'Empirical',practice(n[i],2))\n",
    "        print('k = 3')\n",
    "        print('Theoretical prob:',teor(n[i],3),'Empirical',practice(n[i],3))\n",
    "print_ans()\n",
    "\n"
   ]
  },
  {
   "cell_type": "markdown",
   "metadata": {
    "collapsed": false
   },
   "source": [
    "## 3 Найбільше число\n",
    "Реалізуйте функцію підрахунку точної (теоретичної) імовірності того, що максимальне число після $n$ кидків звичайного грального кубика дорівнює $x\\_max$, для таких параметрів:\n",
    "- $n = 3, x\\_max = 6$\n",
    "- $n = 2, x\\_max = 3$\n",
    "- $n = 3, x\\_max = 5$\n",
    "\n",
    "Тобто, якщо $X_i, i = 1, \\ldots, n$, - число на $i$-му кидку кубика, а $X = \\max\\limits_{1 \\leq i \\leq n} X_i$, то потрібно знайти ймовірність $\\textbf{P} \\left( X = x\\_max \\right)$.\n",
    "\n",
    "Підрахуйте також емпіричні ймовірності відповідних подій у випадку $10000$ симуляцій.\n",
    "\n",
    "**Зауваження.** Якщо введені параметри не мають сенсу, то повертати $0$.\n",
    "Тобто, якщо вводиться $x\\_max < 1$ або $x\\_max > 6$."
   ]
  },
  {
   "cell_type": "code",
   "execution_count": 3,
   "metadata": {
    "collapsed": false
   },
   "outputs": [
    {
     "name": "stdout",
     "output_type": "stream",
     "text": [
      "n = 3,x_max = 6\n",
      "Theoretical prob: 0.4212962962962963 Empirical 0.4251\n",
      "n = 2,x_max = 3\n"
     ]
    },
    {
     "name": "stdout",
     "output_type": "stream",
     "text": [
      "Theoretical prob: 0.1388888888888889 Empirical 0.1412\n",
      "n = 3,x_max = 5\n"
     ]
    },
    {
     "name": "stdout",
     "output_type": "stream",
     "text": [
      "Theoretical prob: 0.2824074074074074 Empirical 0.279\n"
     ]
    }
   ],
   "source": [
    "# Місце для Вашого коду\n",
    "import numpy as np\n",
    "\n",
    "def teor(n, x_max):\n",
    "    if x_max < 1 or x_max > 6:\n",
    "        return 0\n",
    "    return (x_max ** n - (x_max - 1) ** n) / 6 ** n\n",
    "\n",
    "\n",
    "def practice(n, x_max):\n",
    "    if x_max < 1 or x_max > 6:\n",
    "        return 0\n",
    "    count = 0\n",
    "    var = range(1, 7)\n",
    "    for i in range(10000):\n",
    "        tmp = np.random.choice(var, n)\n",
    "        if max(tmp) == x_max:\n",
    "            count += 1\n",
    "    return count / 10000\n",
    "\n",
    "print('n = 3,x_max = 6')\n",
    "print('Theoretical prob:',teor(3,6),'Empirical',practice(3,6))\n",
    "print('n = 2,x_max = 3')\n",
    "print('Theoretical prob:',teor(2,3),'Empirical',practice(2,3))\n",
    "print('n = 3,x_max = 5')\n",
    "print('Theoretical prob:',teor(3,5),'Empirical',practice(3,5))\n",
    "\n"
   ]
  },
  {
   "cell_type": "markdown",
   "metadata": {
    "collapsed": false
   },
   "source": [
    "## 4 Сума чисел\n",
    "Реалізуйте функцію підрахунку точної (теоретичної) імовірності того, що сума чисел після $n$ кидків звичайного грального кубика дорівнює $s$, для таких параметрів:\n",
    "- $n = 3, s = 13$\n",
    "- $n = 2, s = 5$\n",
    "- $n = 3, s = 7$\n",
    "\n",
    "Тобто, якщо $X_i, i = 1, \\ldots, n$, - число на $i$-му кидку кубика, а $X = \\sum\\limits_{i = 1}^{n} X_i$, то потрібно знайти ймовірність $\\textbf{P} \\left( X = s \\right)$.\n",
    "\n",
    "Підрахуйте також емпіричні ймовірності відповідних подій у випадку $10000$ симуляцій.\n",
    "\n",
    "**Зауваження.** Якщо введені параметри не мають сенсу, то повертати $0$.\n",
    "Наприклад, якщо при $n = 3$ вводиться $s < 3$ або $s > 18$."
   ]
  },
  {
   "cell_type": "code",
   "execution_count": 5,
   "metadata": {
    "collapsed": false
   },
   "outputs": [
    {
     "name": "stdout",
     "output_type": "stream",
     "text": [
      "n = 3,s = 13\n"
     ]
    },
    {
     "name": "stdout",
     "output_type": "stream",
     "text": [
      "Theoretical prob: 0.09722222222222222 Empirical 0.0927\n",
      "n = 2,s = 5\n"
     ]
    },
    {
     "name": "stdout",
     "output_type": "stream",
     "text": [
      "Theoretical prob: 0.1111111111111111 Empirical 0.1154\n",
      "n = 3,s = 7\n",
      "Theoretical prob: 0.06944444444444445 Empirical 0.0708\n"
     ]
    }
   ],
   "source": [
    "# Місце для Вашого коду\n",
    "from itertools import product\n",
    "import numpy as np\n",
    "\n",
    "\n",
    "def teor(n, s):\n",
    "    if s < n or s > n * 6:\n",
    "        return 0\n",
    "    count = 0\n",
    "    var = range(1, 7)\n",
    "    for i in product(var, repeat = n):\n",
    "        if sum(i) == s:\n",
    "            count += 1\n",
    "    return count / 6 ** n\n",
    "\n",
    "\n",
    "def practice(n, s):\n",
    "    if s < n or s > n * 6:\n",
    "        return 0\n",
    "    space = range(1, 7)\n",
    "    count = 0\n",
    "    for i in range(10000):\n",
    "        test = np.random.choice(space, n)\n",
    "        if sum(test) == s:\n",
    "            count += 1\n",
    "    return count / 10000\n",
    "\n",
    "print('n = 3,s = 13')\n",
    "print('Theoretical prob:',teor(3,13),'Empirical',practice(3,13))\n",
    "print('n = 2,s = 5')\n",
    "print('Theoretical prob:',teor(2,5),'Empirical',practice(2,5))\n",
    "print('n = 3,s = 7')\n",
    "print('Theoretical prob:',teor(3,7),'Empirical',practice(3,7))"
   ]
  },
  {
   "cell_type": "code",
   "execution_count": 0,
   "metadata": {
    "collapsed": false
   },
   "outputs": [
   ],
   "source": [
   ]
  }
 ],
 "metadata": {
  "kernelspec": {
   "display_name": "Python 3 (Ubuntu Linux)",
   "language": "python",
   "name": "python3"
  },
  "language_info": {
   "codemirror_mode": {
    "name": "ipython",
    "version": 3
   },
   "file_extension": ".py",
   "mimetype": "text/x-python",
   "name": "python",
   "nbconvert_exporter": "python",
   "pygments_lexer": "ipython3",
   "version": "3.6.7"
  }
 },
 "nbformat": 4,
 "nbformat_minor": 0
}