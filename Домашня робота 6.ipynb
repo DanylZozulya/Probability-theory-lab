{
 "cells": [
  {
   "cell_type": "markdown",
   "metadata": {
    "collapsed": false
   },
   "source": [
    "# Домашня робота №6"
   ]
  },
  {
   "cell_type": "markdown",
   "metadata": {
    "collapsed": false
   },
   "source": [
    "# Математичне сподівання та дисперсія"
   ]
  },
  {
   "cell_type": "markdown",
   "metadata": {
    "collapsed": false
   },
   "source": [
    "## 1 Порівняння"
   ]
  },
  {
   "cell_type": "markdown",
   "metadata": {
    "collapsed": false
   },
   "source": [
    "1. Реалізуйте функцію для підрахунку математичного сподівання випадкової величини $\\xi$, заданої в класі **scipy.stats**, усіма можливими способами:\n",
    "   - за допомогою методу **mean**;\n",
    "   - за допомогою методу **expect**;\n",
    "   - за допомогою методу **stats**.\n",
    "\n",
    "2. Реалізуйте функцію для підрахунку дисперсії випадкової величини $\\xi$, заданої в класі **scipy.stats**, усіма можливими способами:\n",
    "   - за допомогою методу **var**;\n",
    "   - за допомогою методу **expect** та формули для дисперсії \n",
    "$\\mathsf{D}(\\xi) = \\mathsf{E} \\left[ \\left( \\xi - \\mathsf{E}[\\xi] \\right)^2 \\right]$;\n",
    "   - за допомогою методу **expect** та формули для дисперсії\n",
    "$\\mathsf{D}(\\xi) = \\mathsf{E}[\\xi^2] - \\left( \\mathsf{E}[\\xi] \\right)^2$;\n",
    "   - за допомогою методу **stats**.\n",
    "\n",
    "3. Порахуйте математичне сподівання та дисперсію, використовуючи функції з пунктів **1., 2.**, і порівняйте (виведіть різницю) їх із теоретичними значеннями, використовуючи формули з лекцій, для таких випадкових величин:\n",
    "   - $\\xi \\sim Binom(10, 0.4)$ (біноміальний розподіл);\n",
    "   - $\\xi \\sim Geom(0.5)$ (геометричний розподіл);\n",
    "   - $\\xi \\sim Pois(0.6)$ (розподіл Пуассона);\n",
    "   - $\\xi \\sim NBinom(5, 0.4)$ (від'ємний біноміальний розподіл);\n",
    "   - $\\xi \\sim HGeom(20, 7, 12)$ (гіпергеометричний розподіл);\n",
    "   - $\\xi \\sim Unif(0, 1)$ (рівномірний розподіл);\n",
    "   - $\\xi \\sim Exp(0.5)$ (експоненційний (показниковий) розподіл);\n",
    "   - $\\xi \\sim N(0, 1)$ (нормальний розподіл);\n",
    "   - $\\xi \\sim \\Gamma(2)$ (гамма розподіл);\n",
    "   - $\\xi \\sim LogNorm(0, 1)$ (логнормальний розподіл);\n",
    "   - $\\xi \\sim B(2, 1.1)$ (бета розподіл)."
   ]
  },
  {
   "cell_type": "code",
   "execution_count": 1,
   "metadata": {
    "collapsed": false
   },
   "outputs": [
    {
     "name": "stdout",
     "output_type": "stream",
     "text": [
      "Binom \n",
      " Expects: (4.0, 4.0000000000000036, array(4.)), \n",
      " Variances: (2.4, 2.4000000000000012, 2.399999999999995, array(2.4))\n",
      "\n",
      "\n",
      "Geom \n",
      " Expects: (2.0, 2.0, array(2.)), \n",
      " Variances: (2.0, 2.0, 2.0, array(2.))\n",
      "\n",
      "\n",
      "Pois \n",
      " Expects: (0.6, 0.6, array(0.6)), \n",
      " Variances: (0.6, 0.5999999999999999, 0.6, array(0.6))\n",
      "\n",
      "\n",
      "NBinom \n",
      " Expects: (7.5, 7.500000000000006, array(7.5)), \n",
      " Variances: (18.75, 18.750000000000007, 18.749999999999964, array(18.75))\n",
      "\n",
      "\n",
      "HGeom \n",
      " Expects: (4.199999999999999, 4.199999999999995, array(4.2)), \n",
      " Variances: (1.1494736842105264, 1.1494736842105246, 1.149473684210541, array(1.14947368))\n",
      "\n",
      "\n",
      "Unif \n",
      " Expects: (0.5, 0.5, array(0.5)), \n",
      " Variances: (0.08333333333333333, 0.08333333333333333, 0.08333333333333337, array(0.08333333))\n",
      "\n",
      "\n"
     ]
    },
    {
     "name": "stdout",
     "output_type": "stream",
     "text": [
      "Exp \n",
      " Expects: (1.5, 1.4999999999999996, array(1.5)), \n",
      " Variances: (1.0, 1.0, 1.0000000000000018, array(1.))\n",
      "\n",
      "\n"
     ]
    },
    {
     "name": "stdout",
     "output_type": "stream",
     "text": [
      "N \n",
      " Expects: (0.0, 0.0, array(0.)), \n",
      " Variances: (1.0, 1.000000000000001, 1.000000000000001, array(1.))\n",
      "\n",
      "\n"
     ]
    },
    {
     "name": "stdout",
     "output_type": "stream",
     "text": [
      "Г \n",
      " Expects: (2.0, 2.0, array(2.)), \n",
      " Variances: (2.0, 2.0000000000000004, 2.0, array(2.))\n",
      "\n",
      "\n"
     ]
    },
    {
     "name": "stdout",
     "output_type": "stream",
     "text": [
      "LogNorm \n",
      " Expects: (1.6487212707001282, 1.6487212706999776, array(1.64872127)), \n",
      " Variances: (4.670774270471604, 4.670774270452187, 4.670774270429307, array(4.67077427))\n",
      "\n",
      "\n"
     ]
    },
    {
     "name": "stdout",
     "output_type": "stream",
     "text": [
      "B \n",
      " Expects: (0.6451612903225806, 0.6451612903225803, array(0.64516129)), \n",
      " Variances: (0.05583614629070329, 0.055836146290680275, 0.05583614629070349, array(0.05583615))\n",
      "\n",
      "\n"
     ]
    }
   ],
   "source": [
    "# Місце для Вашого коду\n",
    "from scipy.stats import binom,geom,poisson,nbinom,hypergeom,uniform,expon,norm,gamma,lognorm,beta\n",
    "\n",
    "distributions = {binom: ((10, 0.4), 'Binom'), geom: ((0.5, ), 'Geom'), poisson: ((0.6, ), 'Pois'), nbinom: ((5, 0.4), 'NBinom'),hypergeom: ((20, 7, 12), 'HGeom'),\n",
    "                  uniform: ((0, 1), 'Unif'), expon: ((0.5, ), 'Exp'), norm: ((0, 1), 'N'), gamma: ((2, ), 'Г'), lognorm: ((1, 0), 'LogNorm'),beta: ((2, 1.1), 'B')}\n",
    "\n",
    "\n",
    "def expects(dist):\n",
    "    return dist.mean(), dist.expect(), dist.stats()[0]\n",
    "\n",
    "\n",
    "def variances(dist):\n",
    "    tmp1 = dist.var()\n",
    "    tmp2 = dist.expect(lambda x: (x - dist.expect()) ** 2)\n",
    "    tmp3 = dist.expect(lambda x: x ** 2) - (dist.expect()) ** 2\n",
    "    tmp4 = dist.stats()[1]\n",
    "    return tmp1, tmp2, tmp3, tmp4\n",
    "\n",
    "\n",
    "for cls, (params, name) in distributions.items():\n",
    "    dist = cls(*params)\n",
    "    print(f'{name} \\n Expects: {expects(dist)}, \\n Variances: {variances(dist)}\\n\\n')\n",
    "\n"
   ]
  },
  {
   "cell_type": "markdown",
   "metadata": {
    "collapsed": false
   },
   "source": [
    "## 2 Унікальні цифри"
   ]
  },
  {
   "cell_type": "markdown",
   "metadata": {
    "collapsed": false
   },
   "source": [
    "Нехай випадковим чином вибирають послідовно $n$ цифр (цифри можуть повторюватися, вибірка з поверненням).\n",
    "Нехай тоді випадкова величина $\\xi$ - це кількість унікальних цифр в отриманому наборі.\n",
    "\n",
    "Напишіть функцію для обрахунку математичного сподівання та дисперсії випадкової величини $\\xi$ в залежності від кількості $n$ цифр у наборі методом повного перебору.\n",
    "Виведіть результат для $n = 1, 2, 3, 4, 5, 6, 7.$"
   ]
  },
  {
   "cell_type": "code",
   "execution_count": 3,
   "metadata": {
    "collapsed": false
   },
   "outputs": [
    {
     "name": "stdout",
     "output_type": "stream",
     "text": [
      "n = 1, Expect: 1.0, Variance: 0.0\n",
      "n = 2, Expect: 1.9000000000000001, Variance: 0.08999999999999986\n",
      "n = 3, Expect: 2.71, Variance: 0.22589999999999932\n",
      "n = 4, Expect: 3.439, Variance: 0.37827899999999914\n"
     ]
    },
    {
     "name": "stdout",
     "output_type": "stream",
     "text": [
      "n = 5, Expect: 4.0951, Variance: 0.5282559899999946\n"
     ]
    },
    {
     "name": "stdout",
     "output_type": "stream",
     "text": [
      "n = 6, Expect: 4.6855899999999995, Variance: 0.6644163519000053\n"
     ]
    },
    {
     "name": "stdout",
     "output_type": "stream",
     "text": [
      "n = 7, Expect: 5.2170309999999995, Variance: 0.7805445450390032\n"
     ]
    }
   ],
   "source": [
    "# Місце для Вашого коду\n",
    "from scipy.stats import rv_discrete\n",
    "from itertools import product\n",
    "import numpy as np\n",
    "\n",
    "\n",
    "def task2(n):\n",
    "    x_n = np.arange(1, n+1)\n",
    "    p_n = []\n",
    "    for k in x_n:\n",
    "        count = 0\n",
    "        value = 0\n",
    "        for el in product(range(10), repeat=n):\n",
    "            value += 1\n",
    "            if len(set(el)) == k:\n",
    "                count += 1\n",
    "        p_n.append(count / value)\n",
    "    res = rv_discrete(name='Result', values=(x_n, p_n))\n",
    "    return res\n",
    "\n",
    "\n",
    "for i in range(1, 8):\n",
    "    rv = task2(i)\n",
    "    print(f'n = {i}, Expect: {rv.expect()}, Variance: {rv.var()}')\n"
   ]
  },
  {
   "cell_type": "markdown",
   "metadata": {
    "collapsed": false
   },
   "source": [
    "## 3 Максимальне значення"
   ]
  },
  {
   "cell_type": "markdown",
   "metadata": {
    "collapsed": false
   },
   "source": [
    "Нехай випадкова величина $\\xi$ - це максимальне значення після $n$ кидків грального кубика.\n",
    "\n",
    "Напишіть функцію для обрахунку математичного сподівання та дисперсії випадкової величини $\\xi$ в залежності від кількості $n$ кидків кубика методом повного перебору.\n",
    "Виведіть результат для $n = 1, 2, 3, 4, 5, 6, 7, 8, 9.$\n",
    "\n",
    "Напишіть теоретичну формулу для математичного сподівання та дисперсії випадкової величини $\\xi$.\n",
    "Порівняйте теоретичні значення з обчисленими повним перебором."
   ]
  },
  {
   "cell_type": "code",
   "execution_count": 5,
   "metadata": {
    "collapsed": false
   },
   "outputs": [
    {
     "name": "stdout",
     "output_type": "stream",
     "text": [
      "n = 1, \n",
      " Teoretical: (array(3.5), array(2.91666667)), \n",
      " Full permute: (array(3.5), array(2.91666667))\n",
      "\n",
      "n = 2, \n",
      " Teoretical: (array(4.47222222), array(1.97145062)), \n",
      " Full permute: (array(4.47222222), array(1.97145062))\n",
      "\n",
      "n = 3, \n",
      " Teoretical: (array(4.95833333), array(1.30844907)), \n",
      " Full permute: (array(4.95833333), array(1.30844907))\n",
      "\n",
      "n = 4, \n",
      " Teoretical: (array(5.24459877), array(0.91007885)), \n",
      " Full permute: (array(5.24459877), array(0.91007885))\n",
      "\n",
      "n = 5, \n",
      " Teoretical: (array(5.43094136), array(0.65932555)), \n",
      " Full permute: (array(5.43094136), array(0.65932555))\n",
      "\n",
      "n = 6, \n",
      " Teoretical: (array(5.56029235), array(0.49284974)), \n",
      " Full permute: (array(5.56029235), array(0.49284974))\n",
      "\n"
     ]
    },
    {
     "name": "stdout",
     "output_type": "stream",
     "text": [
      "n = 7, \n",
      " Teoretical: (array(5.65411737), array(0.37732523)), \n",
      " Full permute: (array(5.65411737), array(0.37732523))\n",
      "\n"
     ]
    },
    {
     "name": "stdout",
     "output_type": "stream",
     "text": [
      "n = 8, \n",
      " Teoretical: (array(5.72435426), array(0.29424631)), \n",
      " Full permute: (array(5.72435426), array(0.29424631))\n",
      "\n"
     ]
    },
    {
     "name": "stdout",
     "output_type": "stream",
     "text": [
      "n = 9, \n",
      " Teoretical: (array(5.77817698), array(0.23276029)), \n",
      " Full permute: (array(5.77817698), array(0.23276029))\n",
      "\n"
     ]
    }
   ],
   "source": [
    "# Місце для Вашого коду\n",
    "def teor(n):\n",
    "    x_n = np.arange(1, 7)\n",
    "    p_n = (x_n ** n - (x_n - 1) ** n) / 6 ** n\n",
    "    return rv_discrete(name='Result', values=(x_n, p_n))\n",
    "\n",
    "\n",
    "def full_permute(n):\n",
    "    x_n = np.arange(1, 7)\n",
    "    p_n = []\n",
    "    for i in x_n:\n",
    "        count = 0\n",
    "        value = 0\n",
    "        for el in product(x_n, repeat=n):\n",
    "            value += 1\n",
    "            if max(el) == i:\n",
    "                count += 1\n",
    "        p_n.append(count / value)\n",
    "    return rv_discrete(name='Reult2', values=(x_n, p_n))\n",
    "\n",
    "\n",
    "for i in range(1, 10):\n",
    "    res1 = teor(i)\n",
    "    res2 = full_permute(i)\n",
    "    print(f'n = {i}, \\n Teoretical: {res1.stats()}, \\n Full permute: {res2.stats()}\\n')\n",
    "\n",
    "\n"
   ]
  },
  {
   "cell_type": "markdown",
   "metadata": {
    "collapsed": false
   },
   "source": [
    "## 4 Сума значень"
   ]
  },
  {
   "cell_type": "markdown",
   "metadata": {
    "collapsed": false
   },
   "source": [
    "Нехай випадкова величина $\\xi$ - це сума значень після $n$ кидків грального кубика (сума цифр, що випали).\n",
    "\n",
    "Напишіть функцію для обрахунку математичного сподівання та дисперсії випадкової величини $\\xi$ в залежності від кількості $n$ кидків кубика методом повного перебору.\n",
    "Виведіть результат для $n = 1, 2, 3, 5, 7, 8.$\n",
    "\n",
    "Напишіть теоретичну формулу для математичного сподівання та дисперсії випадкової величини $\\xi$.\n",
    "Порівняйте теоретичні значення з обчисленими повним перебором."
   ]
  },
  {
   "cell_type": "code",
   "execution_count": 7,
   "metadata": {
    "collapsed": false
   },
   "outputs": [
    {
     "name": "stdout",
     "output_type": "stream",
     "text": [
      "n = 1, \n",
      " Teoretical: (3.5, 2.9166666666666665), \n",
      "  Full permute: (3.5, 2.916666666666666)\n",
      "\n",
      "n = 2, \n",
      " Teoretical: (7.0, 5.833333333333333), \n",
      "  Full permute: (6.999999999999999, 5.833333333333336)\n",
      "\n",
      "n = 3, \n",
      " Teoretical: (10.5, 8.75), \n",
      "  Full permute: (10.500000000000002, 8.749999999999972)\n",
      "\n",
      "n = 5, \n",
      " Teoretical: (17.5, 14.583333333333332), \n",
      "  Full permute: (17.5, 14.583333333333371)\n",
      "\n"
     ]
    },
    {
     "name": "stdout",
     "output_type": "stream",
     "text": [
      "n = 7, \n",
      " Teoretical: (24.5, 20.416666666666664), \n",
      "  Full permute: (24.5, 20.41666666666663)\n",
      "\n"
     ]
    },
    {
     "name": "stdout",
     "output_type": "stream",
     "text": [
      "n = 8, \n",
      " Teoretical: (28.0, 23.333333333333332), \n",
      "  Full permute: (28.000000000000007, 23.33333333333303)\n",
      "\n"
     ]
    }
   ],
   "source": [
    "# Місце для Вашого коду\n",
    "def teor(n):\n",
    "    return 3.5 * n, (35/12) * n \n",
    "\n",
    "\n",
    "def full_permute(n):\n",
    "    x_n = np.arange(0, 6*n+1)\n",
    "    p_n = []\n",
    "    for i in x_n:\n",
    "        count = 0\n",
    "        value = 0\n",
    "        for el in product(range(1, 7), repeat=n):\n",
    "            value += 1\n",
    "            if sum(el) == i:\n",
    "                count += 1\n",
    "        p_n.append(count / value)\n",
    "    expect = 0\n",
    "    var = 0\n",
    "    for i, j in zip(x_n, p_n):\n",
    "        expect += i * j\n",
    "        var += i**2 * j\n",
    "    return expect, var - expect**2\n",
    "\n",
    "for n in [1, 2, 3, 5, 7, 8]:\n",
    "    res1 = teor(n)\n",
    "    res2 = full_permute(n)\n",
    "    print(f'n = {n}, \\n Teoretical: {res1}, \\n  Full permute: {res2}\\n')\n",
    "\n"
   ]
  },
  {
   "cell_type": "markdown",
   "metadata": {
    "collapsed": false
   },
   "source": [
    "## 5 Парадокс днів народження"
   ]
  },
  {
   "cell_type": "markdown",
   "metadata": {
    "collapsed": false
   },
   "source": [
    "Нехай маємо $n$ людей.\n",
    "Їх дні народження припадають на один з 12 місяців.\n",
    "Нехай тоді випадкова величина $\\xi$ - це кількість співпадінь місяців народжень серед цих $n$ людей.\n",
    "\n",
    "Напишіть функцію для обрахунку математичного сподівання та дисперсії випадкової величини $\\xi$ в залежності від кількості $n$ людей методом повного перебору.\n",
    "Виведіть результат для $n = 1, 2, 3, 4, 5, 6.$\n",
    "\n",
    "Для якого $n$ виконується $\\mathsf{E}\\left[ \\xi \\right] \\geq 1$?\n",
    "\n",
    "**Зауваження.** Кількість співпадінь означає кількість однакових пар. Наприклад,\n",
    "- у наборі $\\{ 1, 1, 2, 3 \\}$ є одна пара;\n",
    "- у наборі $\\{ 1, 1, 1, 3 \\}$ є три пари;\n",
    "- у наборі $\\{ 1, 1, 1, 1 \\}$ є шість пар."
   ]
  },
  {
   "cell_type": "code",
   "execution_count": 3,
   "metadata": {
    "collapsed": false
   },
   "outputs": [
    {
     "ename": "NameError",
     "evalue": "name 'product' is not defined",
     "output_type": "error",
     "traceback": [
      "\u001b[0;31m---------------------------------------------------------------------------\u001b[0m",
      "\u001b[0;31mNameError\u001b[0m                                 Traceback (most recent call last)",
      "\u001b[0;32m<ipython-input-3-e772b4c5b1ee>\u001b[0m in \u001b[0;36m<module>\u001b[0;34m()\u001b[0m\n\u001b[1;32m     37\u001b[0m \u001b[0;34m\u001b[0m\u001b[0m\n\u001b[1;32m     38\u001b[0m \u001b[0;32mfor\u001b[0m \u001b[0mn\u001b[0m \u001b[0;32min\u001b[0m \u001b[0mrange\u001b[0m\u001b[0;34m(\u001b[0m\u001b[0;36m1\u001b[0m\u001b[0;34m,\u001b[0m \u001b[0;36m7\u001b[0m\u001b[0;34m)\u001b[0m\u001b[0;34m:\u001b[0m\u001b[0;34m\u001b[0m\u001b[0;34m\u001b[0m\u001b[0m\n\u001b[0;32m---> 39\u001b[0;31m     \u001b[0mprint\u001b[0m\u001b[0;34m(\u001b[0m\u001b[0;34mf'n = {n}, results: {permute(n)}'\u001b[0m\u001b[0;34m)\u001b[0m\u001b[0;34m\u001b[0m\u001b[0;34m\u001b[0m\u001b[0m\n\u001b[0m",
      "\u001b[0;32m<ipython-input-3-e772b4c5b1ee>\u001b[0m in \u001b[0;36mpermute\u001b[0;34m(n)\u001b[0m\n\u001b[1;32m     23\u001b[0m     \u001b[0mcounts\u001b[0m \u001b[0;34m=\u001b[0m \u001b[0mdefaultdict\u001b[0m\u001b[0;34m(\u001b[0m\u001b[0mint\u001b[0m\u001b[0;34m)\u001b[0m\u001b[0;34m\u001b[0m\u001b[0;34m\u001b[0m\u001b[0m\n\u001b[1;32m     24\u001b[0m     \u001b[0mamount\u001b[0m \u001b[0;34m=\u001b[0m \u001b[0;36m0\u001b[0m\u001b[0;34m\u001b[0m\u001b[0;34m\u001b[0m\u001b[0m\n\u001b[0;32m---> 25\u001b[0;31m     \u001b[0;32mfor\u001b[0m \u001b[0mel\u001b[0m \u001b[0;32min\u001b[0m \u001b[0mproduct\u001b[0m\u001b[0;34m(\u001b[0m\u001b[0mrange\u001b[0m\u001b[0;34m(\u001b[0m\u001b[0;36m1\u001b[0m\u001b[0;34m,\u001b[0m \u001b[0;36m13\u001b[0m\u001b[0;34m)\u001b[0m\u001b[0;34m,\u001b[0m \u001b[0mrepeat\u001b[0m\u001b[0;34m=\u001b[0m\u001b[0mn\u001b[0m\u001b[0;34m)\u001b[0m\u001b[0;34m:\u001b[0m\u001b[0;34m\u001b[0m\u001b[0;34m\u001b[0m\u001b[0m\n\u001b[0m\u001b[1;32m     26\u001b[0m         \u001b[0mtmp\u001b[0m \u001b[0;34m=\u001b[0m \u001b[0mCounter\u001b[0m\u001b[0;34m(\u001b[0m\u001b[0mel\u001b[0m\u001b[0;34m)\u001b[0m\u001b[0;34m\u001b[0m\u001b[0;34m\u001b[0m\u001b[0m\n\u001b[1;32m     27\u001b[0m         \u001b[0mres\u001b[0m \u001b[0;34m=\u001b[0m \u001b[0msum\u001b[0m\u001b[0;34m(\u001b[0m\u001b[0mmap\u001b[0m\u001b[0;34m(\u001b[0m\u001b[0;32mlambda\u001b[0m \u001b[0ma\u001b[0m\u001b[0;34m:\u001b[0m \u001b[0mbinomial\u001b[0m\u001b[0;34m(\u001b[0m\u001b[0ma\u001b[0m\u001b[0;34m,\u001b[0m \u001b[0;36m2\u001b[0m\u001b[0;34m)\u001b[0m\u001b[0;34m,\u001b[0m \u001b[0mtmp\u001b[0m\u001b[0;34m.\u001b[0m\u001b[0mvalues\u001b[0m\u001b[0;34m(\u001b[0m\u001b[0;34m)\u001b[0m\u001b[0;34m)\u001b[0m\u001b[0;34m)\u001b[0m    \u001b[0;31m# number of pairs\u001b[0m\u001b[0;34m\u001b[0m\u001b[0;34m\u001b[0m\u001b[0m\n",
      "\u001b[0;31mNameError\u001b[0m: name 'product' is not defined"
     ]
    }
   ],
   "source": [
    "# Місце для Вашого коду\n",
    "from collections import Counter, defaultdict\n",
    "\n",
    "factorials = {1: 1, 0: 1}\n",
    "\n",
    "def factorial(n):\n",
    "    if n not in factorials:\n",
    "        factorials[n] = factorial(n-1) * n\n",
    "    return factorials[n]\n",
    "\n",
    "\n",
    "def binomial(n, k):\n",
    "    res =int(factorial(n) / (factorial(n - k) * factorial(k)))\n",
    "    if k == n:\n",
    "        return 1\n",
    "    elif k > n:\n",
    "        return 0\n",
    "    else:\n",
    "        return res\n",
    "\n",
    "\n",
    "def permute(n):\n",
    "    counts = defaultdict(int)\n",
    "    amount = 0\n",
    "    for el in product(range(1, 13), repeat=n):\n",
    "        tmp = Counter(el)\n",
    "        res = sum(map(lambda a: binomial(a, 2), tmp.values()))    # number of pairs\n",
    "        counts[res] += 1\n",
    "        amount += 1\n",
    "    expect = 0\n",
    "    var = 0\n",
    "    for i in range(max(counts.keys()) + 1):\n",
    "        expect += i * counts[i] / amount\n",
    "        var += i**2 * counts[i] / amount\n",
    "    return expect, var - expect ** 2\n",
    "\n",
    "\n",
    "for n in range(1, 7):\n",
    "    print(f'n = {n}, results: {permute(n)}')"
   ]
  },
  {
   "cell_type": "code",
   "execution_count": 0,
   "metadata": {
    "collapsed": false
   },
   "outputs": [
   ],
   "source": [
   ]
  }
 ],
 "metadata": {
  "kernelspec": {
   "display_name": "Python 3 (Ubuntu Linux)",
   "language": "python",
   "metadata": {
    "cocalc": {
     "description": "Python 3 programming language",
     "priority": 100,
     "url": "https://www.python.org/"
    }
   },
   "name": "python3"
  },
  "language_info": {
   "codemirror_mode": {
    "name": "ipython",
    "version": 3
   },
   "file_extension": ".py",
   "mimetype": "text/x-python",
   "name": "python",
   "nbconvert_exporter": "python",
   "pygments_lexer": "ipython3",
   "version": "3.6.7"
  }
 },
 "nbformat": 4,
 "nbformat_minor": 0
}